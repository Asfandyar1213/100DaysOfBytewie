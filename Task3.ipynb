{
 "cells": [
  {
   "cell_type": "code",
   "execution_count": 1,
   "id": "dfd91af3-28a2-473f-aaf8-741674948337",
   "metadata": {},
   "outputs": [
    {
     "name": "stdout",
     "output_type": "stream",
     "text": [
      "The factorial of 5 is 120.\n"
     ]
    }
   ],
   "source": [
    "def factorial(n):\n",
    "  if n == 0:\n",
    "    return 1\n",
    "  else:\n",
    "    return n * factorial(n-1)\n",
    "\n",
    "# Example usage\n",
    "number = 5\n",
    "result = factorial(number)\n",
    "print(f\"The factorial of {number} is {result}.\")\n"
   ]
  },
  {
   "cell_type": "code",
   "execution_count": 3,
   "id": "e60d5487-c13b-415f-8ac6-c0342eb18db9",
   "metadata": {},
   "outputs": [],
   "source": [
    "class Node:\n",
    "  def __init__(self, data):\n",
    "    self.data = data\n",
    "    self.next = None\n",
    "\n",
    "def is_palindrome(head):\n",
    "  # Reverse the second half of the list\n",
    "  slow = fast = head\n",
    "  while fast and fast.next:\n",
    "    slow = slow.next\n",
    "    fast = fast.next.next\n",
    "\n",
    "  # Compare the original and reversed halves\n",
    "  prev = None\n",
    "  while slow:\n",
    "    temp = slow.next\n",
    "    slow.next = prev\n",
    "    prev = slow\n",
    "    slow = temp\n",
    "\n",
    "  # Compare elements\n",
    "  left, right = head, prev\n",
    "  while left and right:\n",
    "    if left.data != right.data:\n",
    "      return False\n",
    "    left = left.next\n",
    "    right = right.next\n",
    "\n",
    "  # Restore the original list\n",
    "  left, right = prev, None\n",
    "  while left:\n",
    "    temp = left.next\n",
    "    left.next = right\n",
    "    right = left\n",
    "    left = temp\n",
    "\n",
    "  return True\n"
   ]
  },
  {
   "cell_type": "code",
   "execution_count": 5,
   "id": "d29d313d-c859-4876-b1a6-f7f3d8e053f0",
   "metadata": {},
   "outputs": [],
   "source": [
    "def merge_sorted_arrays(arr1, arr2):\n",
    "  merged_arr = []\n",
    "  i, j = 0, 0\n",
    "  while i < len(arr1) and j < len(arr2):\n",
    "    if arr1[i] < arr2[j]:\n",
    "      merged_arr.append(arr1[i])\n",
    "      i += 1\n",
    "    else:\n",
    "      merged_arr.append(arr2[j])\n",
    "      j += 1\n",
    "  # Add remaining elements from either array\n",
    "  merged_arr.extend(arr1[i:])\n",
    "  merged_arr.extend(arr2[j:])\n",
    "  return merged_arr\n"
   ]
  },
  {
   "cell_type": "code",
   "execution_count": 7,
   "id": "e6f1affc-e375-4237-8e75-a983afb2bac3",
   "metadata": {},
   "outputs": [],
   "source": [
    "class Node:\n",
    "  def __init__(self, data):\n",
    "    self.data = data\n",
    "    self.left = None\n",
    "    self.right = None\n",
    "\n",
    "class BST:\n",
    "  def __init__(self):\n",
    "    self.root = None\n",
    "\n"
   ]
  },
  {
   "cell_type": "code",
   "execution_count": 8,
   "id": "f4b9416b-f628-4601-9589-af794df0cc69",
   "metadata": {},
   "outputs": [],
   "source": [
    "def longest_palindrome(string):\n",
    "  dp = [[False for _ in range(len(string))] for _ in range(len(string))]\n",
    "  # Fill the dp table to identify palindromic substrings\n",
    "  max_len = 1\n",
    "  start = 0\n",
    "  for i in range(len(string)):\n",
    "    dp[i][i] = True\n",
    "    if i < len(string) - 1 and string[i] == string[i+1]:\n",
    "      dp[i][i+1] = True\n",
    "      max_len = 2\n",
    "      start = i\n",
    "  # Expand around potential palindromes\n",
    "  for k in range(3, len(string) + 1):\n",
    "    for i in range(len(string) - k + 1):\n",
    "      j = i + k - 1\n",
    "      if dp[i+1][j-1] and string[i] == string[j]:\n",
    "        dp[i][j] = True\n",
    "        if k > max_len:\n",
    "          max_len = k\n",
    "          start = i\n",
    "  return string[start:start+max_len]\n"
   ]
  },
  {
   "cell_type": "code",
   "execution_count": 9,
   "id": "d917e821-8d76-4b15-8acf-efecb6a6acf2",
   "metadata": {},
   "outputs": [],
   "source": [
    "def merge_intervals(intervals):\n",
    "  intervals.sort(key=lambda x: x[0])\n",
    "  merged_intervals = []\n",
    "\n"
   ]
  },
  {
   "cell_type": "code",
   "execution_count": null,
   "id": "aab6de75-927f-47ac-b38f-6899cd70755a",
   "metadata": {},
   "outputs": [],
   "source": []
  }
 ],
 "metadata": {
  "kernelspec": {
   "display_name": "Python 3 (ipykernel)",
   "language": "python",
   "name": "python3"
  },
  "language_info": {
   "codemirror_mode": {
    "name": "ipython",
    "version": 3
   },
   "file_extension": ".py",
   "mimetype": "text/x-python",
   "name": "python",
   "nbconvert_exporter": "python",
   "pygments_lexer": "ipython3",
   "version": "3.11.7"
  }
 },
 "nbformat": 4,
 "nbformat_minor": 5
}
