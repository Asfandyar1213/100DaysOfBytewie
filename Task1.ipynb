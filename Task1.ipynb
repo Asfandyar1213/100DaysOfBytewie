{
 "cells": [
  {
   "cell_type": "code",
   "execution_count": 1,
   "id": "9f6f6dc3-881c-4d6f-be28-fef64dcfdffd",
   "metadata": {},
   "outputs": [
    {
     "name": "stdin",
     "output_type": "stream",
     "text": [
      "Enter first number:  2\n",
      "Enter second number:  1\n"
     ]
    },
    {
     "name": "stdout",
     "output_type": "stream",
     "text": [
      "The sum is: 3.0\n"
     ]
    }
   ],
   "source": [
    "def sum_of_two_numbers():\n",
    "  num1 = float(input(\"Enter first number: \"))\n",
    "  num2 = float(input(\"Enter second number: \"))\n",
    "  sum = num1 + num2\n",
    "  print(\"The sum is:\", sum)\n",
    "\n",
    "sum_of_two_numbers()\n"
   ]
  },
  {
   "cell_type": "code",
   "execution_count": 2,
   "id": "2b605822-9b7e-40d4-b27c-9f22887055ac",
   "metadata": {},
   "outputs": [
    {
     "name": "stdin",
     "output_type": "stream",
     "text": [
      "Enter the radius of the circle:  3.4\n"
     ]
    },
    {
     "name": "stdout",
     "output_type": "stream",
     "text": [
      "The area of the circle is: 36.316811075498\n"
     ]
    }
   ],
   "source": [
    "import math\n",
    "def area_of_circle():\n",
    "  radius = float(input(\"Enter the radius of the circle: \"))\n",
    "  area = math.pi * radius**2\n",
    "  print(\"The area of the circle is:\", area)\n",
    "area_of_circle()\n"
   ]
  },
  {
   "cell_type": "code",
   "execution_count": 3,
   "id": "b85840d8-dc27-4ae1-ad0d-c37d03a19872",
   "metadata": {},
   "outputs": [
    {
     "name": "stdin",
     "output_type": "stream",
     "text": [
      "Enter a number:  6\n"
     ]
    },
    {
     "name": "stdout",
     "output_type": "stream",
     "text": [
      "6 is even\n"
     ]
    }
   ],
   "source": [
    "def even_or_odd():\n",
    "  number = int(input(\"Enter a number: \"))\n",
    "  if number % 2 == 0:\n",
    "    print(number, \"is even\")\n",
    "  else:\n",
    "    print(number, \"is odd\")\n",
    "even_or_odd()\n"
   ]
  },
  {
   "cell_type": "code",
   "execution_count": 4,
   "id": "40547729-fe2d-40f6-a099-f084f725e678",
   "metadata": {},
   "outputs": [
    {
     "name": "stdin",
     "output_type": "stream",
     "text": [
      "Enter first number:  6\n",
      "Enter second number:  9\n",
      "Enter operation (+, -, *, /):  /\n"
     ]
    },
    {
     "name": "stdout",
     "output_type": "stream",
     "text": [
      "The result is: 0.6666666666666666\n"
     ]
    }
   ],
   "source": [
    "def simple_calculator():\n",
    "  num1 = float(input(\"Enter first number: \"))\n",
    "  num2 = float(input(\"Enter second number: \"))\n",
    "  operator = input(\"Enter operation (+, -, *, /): \")\n",
    "\n",
    "  if operator == \"+\":\n",
    "    result = num1 + num2\n",
    "  elif operator == \"-\":\n",
    "    result = num1 - num2\n",
    "  elif operator == \"*\":\n",
    "    result = num1 * num2\n",
    "  elif operator == \"/\":\n",
    "    if num2 != 0:\n",
    "      result = num1 / num2\n",
    "    else:\n",
    "      print(\"Error: Division by zero\")\n",
    "      return  # Exit the function if division by zero\n",
    "  else:\n",
    "    print(\"Invalid operator\")\n",
    "    return  # Exit the function for invalid operator\n",
    "\n",
    "  print(\"The result is:\", result)\n",
    "\n",
    "simple_calculator()\n"
   ]
  },
  {
   "cell_type": "code",
   "execution_count": 5,
   "id": "4ad3ae11-c9e3-4bb7-a62b-2146e5d4c083",
   "metadata": {},
   "outputs": [
    {
     "name": "stdin",
     "output_type": "stream",
     "text": [
      "Enter first number:  4\n",
      "Enter second number:  2\n",
      "Enter third number:  1\n"
     ]
    },
    {
     "name": "stdout",
     "output_type": "stream",
     "text": [
      "The largest number is: 4.0\n"
     ]
    }
   ],
   "source": [
    "def largest_number():\n",
    "  num1 = float(input(\"Enter first number: \"))\n",
    "  num2 = float(input(\"Enter second number: \"))\n",
    "  num3 = float(input(\"Enter third number: \"))\n",
    "\n",
    "  largest = max(num1, num2, num3)\n",
    "  print(\"The largest number is:\", largest)\n",
    "\n",
    "largest_number()\n"
   ]
  },
  {
   "cell_type": "code",
   "execution_count": 6,
   "id": "a294f843-5e7b-4e89-9f20-0283e2d79c0d",
   "metadata": {},
   "outputs": [
    {
     "name": "stdin",
     "output_type": "stream",
     "text": [
      "Enter a string:  ali\n"
     ]
    },
    {
     "name": "stdout",
     "output_type": "stream",
     "text": [
      "The reversed string is: ila\n"
     ]
    }
   ],
   "source": [
    "def reverse_string():\n",
    "  text = input(\"Enter a string: \")\n",
    "  reversed_text = text[::-1]\n",
    "  print(\"The reversed string is:\", reversed_text)\n",
    "\n",
    "reverse_string()\n"
   ]
  },
  {
   "cell_type": "code",
   "execution_count": null,
   "id": "c90dbe95-342e-4d10-bba3-069b5c53762a",
   "metadata": {},
   "outputs": [],
   "source": []
  }
 ],
 "metadata": {
  "kernelspec": {
   "display_name": "Python 3 (ipykernel)",
   "language": "python",
   "name": "python3"
  },
  "language_info": {
   "codemirror_mode": {
    "name": "ipython",
    "version": 3
   },
   "file_extension": ".py",
   "mimetype": "text/x-python",
   "name": "python",
   "nbconvert_exporter": "python",
   "pygments_lexer": "ipython3",
   "version": "3.11.7"
  }
 },
 "nbformat": 4,
 "nbformat_minor": 5
}
