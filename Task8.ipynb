{
 "cells": [
  {
   "cell_type": "code",
   "execution_count": 3,
   "id": "059ac760-cab3-49a2-b200-8d03b3533a66",
   "metadata": {},
   "outputs": [
    {
     "name": "stdout",
     "output_type": "stream",
     "text": [
      "Sepal Length:\n",
      "  Mean: 5.843333333333334\n",
      "  Median: 5.8\n",
      "  Mode: 0    5.0\n",
      "Name: SepalLengthCm, dtype: float64\n",
      "\n",
      "Petal Width:\n",
      "  Variance: 0.5824143176733784\n",
      "  Standard Deviation: 0.7631607417008414\n",
      "\n",
      "Summary Table:\n",
      "               count       mean        std  min    25%    50%     75%    max\n",
      "Id             150.0  75.500000  43.445368  1.0  38.25  75.50  112.75  150.0\n",
      "SepalLengthCm  150.0   5.843333   0.828066  4.3   5.10   5.80    6.40    7.9\n",
      "SepalWidthCm   150.0   3.054000   0.433594  2.0   2.80   3.00    3.30    4.4\n",
      "PetalLengthCm  150.0   3.758667   1.764420  1.0   1.60   4.35    5.10    6.9\n",
      "PetalWidthCm   150.0   1.198667   0.763161  0.1   0.30   1.30    1.80    2.5\n"
     ]
    },
    {
     "data": {
      "image/png": "[encoded data removed]",
      "text/plain": [
       "<Figure size 640x480 with 1 Axes>"
      ]
     },
     "metadata": {},
     "output_type": "display_data"
    },
    {
     "ename": "TypeError",
     "evalue": "cumfreq() got an unexpected keyword argument 'percentiles'",
     "output_type": "error",
     "traceback": [
      "\u001b[1;31m---------------------------------------------------------------------------\u001b[0m",
      "\u001b[1;31mTypeError\u001b[0m                                 Traceback (most recent call last)",
      "Cell \u001b[1;32mIn[3], line 39\u001b[0m\n\u001b[0;32m     37\u001b[0m petal_lengths \u001b[38;5;241m=\u001b[39m iris[\u001b[38;5;124m\"\u001b[39m\u001b[38;5;124mPetalLengthCm\u001b[39m\u001b[38;5;124m\"\u001b[39m]\n\u001b[0;32m     38\u001b[0m percentiles \u001b[38;5;241m=\u001b[39m np\u001b[38;5;241m.\u001b[39mlinspace(\u001b[38;5;241m0\u001b[39m, \u001b[38;5;241m1\u001b[39m, \u001b[38;5;241m100\u001b[39m)\n\u001b[1;32m---> 39\u001b[0m cdf \u001b[38;5;241m=\u001b[39m \u001b[43mstats\u001b[49m\u001b[38;5;241;43m.\u001b[39;49m\u001b[43mcumfreq\u001b[49m\u001b[43m(\u001b[49m\u001b[43mpetal_lengths\u001b[49m\u001b[43m,\u001b[49m\u001b[43m \u001b[49m\u001b[43mpercentiles\u001b[49m\u001b[38;5;241;43m=\u001b[39;49m\u001b[43mpercentiles\u001b[49m\u001b[43m)\u001b[49m[\u001b[38;5;241m0\u001b[39m] \u001b[38;5;241m/\u001b[39m \u001b[38;5;28mlen\u001b[39m(petal_lengths)\n\u001b[0;32m     40\u001b[0m plt\u001b[38;5;241m.\u001b[39mplot(percentiles, cdf)\n\u001b[0;32m     41\u001b[0m plt\u001b[38;5;241m.\u001b[39mxlabel(\u001b[38;5;124m\"\u001b[39m\u001b[38;5;124mPetal Length (cm)\u001b[39m\u001b[38;5;124m\"\u001b[39m)\n",
      "\u001b[1;31mTypeError\u001b[0m: cumfreq() got an unexpected keyword argument 'percentiles'"
     ]
    }
   ],
   "source": [
    "import pandas as pd\n",
    "from scipy import stats\n",
    "import matplotlib.pyplot as plt\n",
    "import numpy as np  # Import numpy library\n",
    "\n",
    "# Load the Iris dataset\n",
    "iris = pd.read_csv(\"iris.csv\")\n",
    "\n",
    "# Exercise 1: Descriptive statistics for sepal length\n",
    "print(\"Sepal Length:\")\n",
    "print(\"  Mean:\", iris[\"SepalLengthCm\"].mean())\n",
    "print(\"  Median:\", iris[\"SepalLengthCm\"].median())\n",
    "print(\"  Mode:\", iris[\"SepalLengthCm\"].mode())\n",
    "\n",
    "# Exercise 2: Variance and standard deviation for petal width\n",
    "print(\"\\nPetal Width:\")\n",
    "print(\"  Variance:\", iris[\"PetalWidthCm\"].var())\n",
    "print(\"  Standard Deviation:\", iris[\"PetalWidthCm\"].std())\n",
    "\n",
    "# Exercise 3: Summary table for all features\n",
    "summary_table = iris.describe().transpose()\n",
    "print(\"\\nSummary Table:\")\n",
    "print(summary_table)\n",
    "\n",
    "# Exercise 4: Define random variable for sepal length (not applicable in Python)\n",
    "# While Python doesn't directly create random variables, you can simulate \n",
    "# one using probability distributions in libraries like `scipy`.\n",
    "\n",
    "# Exercise 5: Probability distribution of sepal lengths (histogram)\n",
    "plt.hist(iris[\"SepalLengthCm\"])\n",
    "plt.xlabel(\"Sepal Length (cm)\")\n",
    "plt.ylabel(\"Frequency\")\n",
    "plt.title(\"Distribution of Sepal Lengths in Iris Dataset\")\n",
    "plt.show()\n",
    "\n",
    "# Exercise 6: Cumulative distribution function (CDF) for petal lengths\n",
    "petal_lengths = iris[\"PetalLengthCm\"]\n",
    "percentiles = np.linspace(0, 1, 100)\n",
    "cdf = stats.cumfreq(petal_lengths, percentiles=percentiles)[0] / len(petal_lengths)\n",
    "plt.plot(percentiles, cdf)\n",
    "plt.xlabel(\"Petal Length (cm)\")\n",
    "plt.ylabel(\"Cumulative Probability\")\n",
    "plt.title(\"CDF of Petal Lengths in Iris Dataset\")\n",
    "plt.show()\n",
    "\n",
    "# Exercise 7: Probability density function (PDF) for sepal width\n",
    "plt.hist(iris[\"SepalWidthCm\"], density=True)\n",
    "plt.xlabel(\"Sepal Width (cm)\")\n",
    "plt.ylabel(\"Probability Density\")\n",
    "plt.title(\"PDF of Sepal Width in Iris Dataset\")\n",
    "plt.show()\n",
    "\n",
    "# Exercise 8: Probability of petal length greater than a value\n",
    "value = 5.0  # You can change this value\n",
    "probability = (iris[\"PetalLengthCm\"] > value).mean()\n",
    "print(f\"\\nProbability of petal length greater than {value} cm:\", probability)\n",
    "\n",
    "# Exercise 9: Hypothesis test for petal length between Iris-setosa and Iris-virginica\n",
    "from scipy import stats\n",
    "\n",
    "setosa_petal_length = iris[iris[\"Species\"] == \"Iris-setosa\"][\"PetalLengthCm\"]\n",
    "virginica_petal_length = iris[iris[\"Species\"] == \"Iris-virginica\"][\"PetalLengthCm\"]\n",
    "tstatistic, pvalue = stats.ttest_ind(setosa_petal_length, virginica_petal_length)\n",
    "\n",
    "print(\"\\nHypothesis Test (Iris-setosa vs. Iris-virginica Petal Length):\")\n",
    "print(f\"  t-statistic: {tstatistic}\")\n",
    "print(f\"  p-value: {pvalue}\")\n",
    "\n",
    "# Based on a significance level of 0.05, a p-value lower than 0.05 indicates \n",
    "# rejection of the null hypothesis (no difference in means). In this case, \n",
    "# the p-value is likely very low, suggesting a significant difference.\n",
    "\n",
    "# Exercise 10: Covariance and correlation between sepal length and sepal width\n",
    "covariance = iris[\"SepalLengthCm\"].cov(iris[\"SepalWidthCm\"])\n",
    "correlation = iris[\"SepalLengthCm\"].corr(iris[\"SepalWidthCm\"])\n",
    "\n",
    "print(\"\\nCovariance between Sepal Length and Sepal Width:\", covariance)\n",
    "print(\"Correlation between Sepal Length and Sepal Width:\", correlation)\n",
    "\n",
    "# A positive covariance indicates that sepal length and width tend to increase \n",
    "# together. A correlation close to 1 suggests a strong linear relationship.\n"
   ]
  },
  {
   "cell_type": "code",
   "execution_count": null,
   "id": "a275e720-c477-416b-99bd-e9eca88e671e",
   "metadata": {},
   "outputs": [],
   "source": []
  }
 ],
 "metadata": {
  "kernelspec": {
   "display_name": "Python 3 (ipykernel)",
   "language": "python",
   "name": "python3"
  },
  "language_info": {
   "codemirror_mode": {
    "name": "ipython",
    "version": 3
   },
   "file_extension": ".py",
   "mimetype": "text/x-python",
   "name": "python",
   "nbconvert_exporter": "python",
   "pygments_lexer": "ipython3",
   "version": "3.11.7"
  }
 },
 "nbformat": 4,
 "nbformat_minor": 5
}
