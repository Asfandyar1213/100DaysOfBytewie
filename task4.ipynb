{
 "cells": [
  {
   "cell_type": "code",
   "execution_count": 1,
   "id": "5cdf76f9-6541-48e2-9b9c-9269cc1f20db",
   "metadata": {},
   "outputs": [
    {
     "name": "stdout",
     "output_type": "stream",
     "text": [
      "[1, 1, 2, 3, 6, 8, 10]\n"
     ]
    }
   ],
   "source": [
    "def quicksort(arr, low, high):\n",
    "  if low < high:\n",
    "    pivot = partition(arr, low, high)\n",
    "    quicksort(arr, low, pivot - 1)\n",
    "    quicksort(arr, pivot + 1, high)\n",
    "\n",
    "def partition(arr, low, high):\n",
    "  pivot = arr[high]\n",
    "  i = low - 1\n",
    "\n",
    "  for j in range(low, high):\n",
    "    if arr[j] <= pivot:\n",
    "      i += 1\n",
    "      arr[i], arr[j] = arr[j], arr[i]\n",
    "  arr[i + 1], arr[high] = arr[high], arr[i + 1]\n",
    "  return i + 1\n",
    "\n",
    "# Example Usage\n",
    "arr = [3, 6, 8, 10, 1, 2, 1]\n",
    "quicksort(arr, 0, len(arr) - 1)\n",
    "print(arr)  \n"
   ]
  },
  {
   "cell_type": "code",
   "execution_count": 2,
   "id": "1dd84693-5dab-436b-9823-6500fa03c95d",
   "metadata": {},
   "outputs": [
    {
     "name": "stdout",
     "output_type": "stream",
     "text": [
      "9\n"
     ]
    }
   ],
   "source": [
    "def knapsack(weights, values, capacity):\n",
    "  n = len(weights)\n",
    "  dp = [[0 for _ in range(capacity + 1)] for _ in range(n + 1)]\n",
    "\n",
    "  for i in range(1, n + 1):\n",
    "    for w in range(1, capacity + 1):\n",
    "      if weights[i - 1] > w:\n",
    "        dp[i][w] = dp[i - 1][w]\n",
    "      else:\n",
    "        dp[i][w] = max(dp[i - 1][w], values[i - 1] + dp[i - 1][w - weights[i - 1]])\n",
    "  return dp[n][capacity]\n",
    "\n",
    "# Example Usage\n",
    "weights = [1, 3, 4, 5]\n",
    "values = [1, 4, 5, 7]\n",
    "capacity = 7\n",
    "print(knapsack(weights, values, capacity))  \n"
   ]
  },
  {
   "cell_type": "code",
   "execution_count": 3,
   "id": "f0da4be3-b067-4134-bb26-6aa56094e636",
   "metadata": {},
   "outputs": [
    {
     "name": "stdout",
     "output_type": "stream",
     "text": [
      "[2, 0, 3, 1]\n",
      "[2, 3, 3, 0, 2, 1, 2]\n"
     ]
    }
   ],
   "source": [
    "from collections import deque\n",
    "\n",
    "def bfs(graph, start):\n",
    "  visited = set()\n",
    "  queue = deque([start])\n",
    "\n",
    "  while queue:\n",
    "    node = queue.popleft()\n",
    "    visited.add(node)\n",
    "    for neighbor in graph[node]:\n",
    "      if neighbor not in visited:\n",
    "        queue.append(neighbor)\n",
    "        visited.add(neighbor)\n",
    "    yield node\n",
    "\n",
    "def dfs(graph, start):\n",
    "  visited = set()\n",
    "  stack = [start]\n",
    "\n",
    "  while stack:\n",
    "    node = stack.pop()\n",
    "    if node not in visited:\n",
    "      visited.add(node)\n",
    "      for neighbor in graph[node]:\n",
    "        stack.append(neighbor)\n",
    "    yield node\n",
    "\n",
    "# Example Usage\n",
    "graph = {0: [1, 2], 1: [2], 2: [0, 3], 3: [3]}\n",
    "print(list(bfs(graph, 2)))  \n",
    "print(list(dfs(graph, 2)))  \n"
   ]
  },
  {
   "cell_type": "code",
   "execution_count": 4,
   "id": "6ba5a205-e3b8-4101-84de-e623f9a98763",
   "metadata": {},
   "outputs": [
    {
     "name": "stdout",
     "output_type": "stream",
     "text": [
      "{'A': 0, 'B': 1, 'C': 3, 'D': 4}\n"
     ]
    }
   ],
   "source": [
    "from heapq import heappop, heappush\n",
    "\n",
    "def dijkstra(graph, start):\n",
    "  distances = {node: float('inf') for node in graph}\n",
    "  distances[start] = 0\n",
    "  pq = [(0, start)]  # (distance, node)\n",
    "\n",
    "  while pq:\n",
    "    current_dist, current_node = heappop(pq)\n",
    "\n",
    "    if current_dist > distances[current_node]:\n",
    "      continue\n",
    "\n",
    "    for neighbor, weight in graph[current_node].items():\n",
    "      new_dist = current_dist + weight\n",
    "      if new_dist < distances[neighbor]:\n",
    "        distances[neighbor] = new_dist\n",
    "        heappush(pq, (new_dist, neighbor))\n",
    "\n",
    "  return distances\n",
    "\n",
    "# Example Usage\n",
    "graph = {'A': {'B': 1, 'C': 4}, 'B': {'C': 2, 'D': 5}, 'C': {'D': 1}, 'D': {}}\n",
    "print(dijkstra(graph, 'A')) \n"
   ]
  },
  {
   "cell_type": "code",
   "execution_count": null,
   "id": "1fe83a43-e01d-4c92-bccd-57290cfb503a",
   "metadata": {},
   "outputs": [],
   "source": []
  }
 ],
 "metadata": {
  "kernelspec": {
   "display_name": "Python 3 (ipykernel)",
   "language": "python",
   "name": "python3"
  },
  "language_info": {
   "codemirror_mode": {
    "name": "ipython",
    "version": 3
   },
   "file_extension": ".py",
   "mimetype": "text/x-python",
   "name": "python",
   "nbconvert_exporter": "python",
   "pygments_lexer": "ipython3",
   "version": "3.11.7"
  }
 },
 "nbformat": 4,
 "nbformat_minor": 5
}
